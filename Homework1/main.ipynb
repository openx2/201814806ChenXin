{
 "cells": [
  {
   "cell_type": "code",
   "execution_count": 1,
   "metadata": {},
   "outputs": [],
   "source": [
    "import os\n",
    "import math\n",
    "\n",
    "import numpy as np\n",
    "from nltk.corpus import stopwords\n",
    "from nltk.tokenize import RegexpTokenizer\n",
    "from nltk.stem.snowball import SnowballStemmer\n",
    "\n",
    "from VectorSpaceModel import *\n",
    "from KNNClassifier import *"
   ]
  },
  {
   "cell_type": "code",
   "execution_count": 2,
   "metadata": {},
   "outputs": [],
   "source": [
    "# define constants\n",
    "PATH = \"./20news-18828/\""
   ]
  },
  {
   "cell_type": "code",
   "execution_count": 3,
   "metadata": {
    "scrolled": false
   },
   "outputs": [],
   "source": [
    "# generate file path of training set and testing set\n",
    "subdirs = os.listdir(PATH)\n",
    "training_set_fns = []\n",
    "test_set_fns = []\n",
    "for dir_ in subdirs:\n",
    "    files = os.listdir(PATH+dir_)\n",
    "    splitting_pos = math.floor(len(files)*0.8)\n",
    "    training_set_fns.extend(os.path.join(dir_, fn) for fn in files[:splitting_pos])\n",
    "    test_set_fns.extend(os.path.join(dir_, fn) for fn in files[splitting_pos:])"
   ]
  },
  {
   "cell_type": "code",
   "execution_count": 4,
   "metadata": {},
   "outputs": [
    {
     "name": "stdout",
     "output_type": "stream",
     "text": [
      "The training set contains 15056 files\n",
      "The testing set contains 3772 files\n"
     ]
    }
   ],
   "source": [
    "print('The training set contains %d files' % len(training_set_fns))\n",
    "print('The testing set contains %d files' % len(test_set_fns))"
   ]
  },
  {
   "cell_type": "code",
   "execution_count": 5,
   "metadata": {},
   "outputs": [],
   "source": [
    "# read documents of training set\n",
    "training_docs = []\n",
    "for fn in training_set_fns:\n",
    "    with open(PATH+fn, encoding='latin1') as f:\n",
    "        training_docs.append(f.read())"
   ]
  },
  {
   "cell_type": "code",
   "execution_count": 6,
   "metadata": {},
   "outputs": [],
   "source": [
    "# preprocess training docs\n",
    "stop_words = set(stopwords.words('english'))\n",
    "def filter_stop_words(doc):\n",
    "    return filter(lambda w: w not in stop_words, doc)\n",
    "\n",
    "tokenized_docs = []\n",
    "tokenizer = RegexpTokenizer(r'\\w+')\n",
    "stemmer = SnowballStemmer(\"english\", ignore_stopwords=True)\n",
    "for doc in training_docs:\n",
    "    word_tokens = tokenizer.tokenize(doc) # Tokenization\n",
    "    word_stems = [stemmer.stem(w.lower()) for w in word_tokens] # Stemming/normalization\n",
    "    word_without_stopwords = filter_stop_words(word_stems) # Stopword/controlled vocabulary filtering\n",
    "    tokenized_docs.append(word_without_stopwords)"
   ]
  },
  {
   "cell_type": "code",
   "execution_count": 7,
   "metadata": {
    "scrolled": true
   },
   "outputs": [],
   "source": [
    "# get the VSM representation of each training document\n",
    "vsms = []\n",
    "for doc in tokenized_docs:\n",
    "    vsm = VectorSpaceModel(doc)\n",
    "    VectorSpaceModel.accumulateDocumentFrequency(vsm.getTerms())\n",
    "    vsms.append(vsm)\n",
    "\n",
    "VectorSpaceModel.calIDF()\n",
    "for vsm in vsms:\n",
    "    vsm.calWeight(TF_Scale.MAXIMUM)\n",
    "    vsm.normalize()"
   ]
  },
  {
   "cell_type": "code",
   "execution_count": 8,
   "metadata": {},
   "outputs": [
    {
     "data": {
      "text/plain": [
       "15056"
      ]
     },
     "execution_count": 8,
     "metadata": {},
     "output_type": "execute_result"
    }
   ],
   "source": [
    "len(vsms)"
   ]
  },
  {
   "cell_type": "code",
   "execution_count": 9,
   "metadata": {},
   "outputs": [],
   "source": [
    "# read the whole testing set\n",
    "N = len(test_set_fns)\n",
    "\n",
    "whole_test_docs = []\n",
    "for fn in test_set_fns:\n",
    "    with open(PATH+fn, encoding='latin1') as f:\n",
    "        whole_test_docs.append(f.read())\n",
    "\n",
    "whole_test_tokenized_docs = []\n",
    "for doc in whole_test_docs:\n",
    "    word_tokens = tokenizer.tokenize(doc) # Tokenization\n",
    "    word_stems = [stemmer.stem(w.lower()) for w in word_tokens] # Stemming/normalization\n",
    "    word_without_stopwords = filter_stop_words(word_stems) # Stopword/controlled vocabulary filtering\n",
    "    whole_test_tokenized_docs.append(word_without_stopwords)"
   ]
  },
  {
   "cell_type": "code",
   "execution_count": 10,
   "metadata": {
    "scrolled": true
   },
   "outputs": [],
   "source": [
    "# get the VSM representation of whole testing documents\n",
    "whole_test_vsms = []\n",
    "for doc in whole_test_tokenized_docs:\n",
    "    vsm = VectorSpaceModel(doc)\n",
    "    whole_test_vsms.append(vsm)\n",
    "\n",
    "for vsm in whole_test_vsms:\n",
    "    vsm.calWeight(TF_Scale.MAXIMUM)\n",
    "    vsm.normalize()"
   ]
  },
  {
   "cell_type": "code",
   "execution_count": 11,
   "metadata": {},
   "outputs": [],
   "source": [
    "# create a KNN classifier\n",
    "labels = [os.path.dirname(fn) for fn in training_set_fns]\n",
    "classifier = KNNClassifier(vsms, labels)"
   ]
  },
  {
   "cell_type": "code",
   "execution_count": 12,
   "metadata": {},
   "outputs": [],
   "source": [
    "# training the classifier\n",
    "classifier.train()"
   ]
  },
  {
   "cell_type": "code",
   "execution_count": 13,
   "metadata": {},
   "outputs": [],
   "source": [
    "# classify the testing data for different k\n",
    "result_for_k = []\n",
    "for k in range(50):\n",
    "    result_for_k.append([])\n",
    "    for vsm in whole_test_vsms:\n",
    "        result_for_k[k].append(classifier.classify(vsm, k+1))"
   ]
  },
  {
   "cell_type": "code",
   "execution_count": 14,
   "metadata": {},
   "outputs": [],
   "source": [
    "# compute the error rate of testing data\n",
    "error_rate = []\n",
    "for r in result_for_k:\n",
    "    sum_ = 0\n",
    "    for i, label in enumerate(r):\n",
    "        if label != os.path.dirname(test_set_fns[i]):\n",
    "            sum_ += 1\n",
    "    error_rate.append(sum_/N)\n",
    "\n",
    "error_rate = np.array(error_rate)"
   ]
  },
  {
   "cell_type": "code",
   "execution_count": 15,
   "metadata": {},
   "outputs": [],
   "source": [
    "%matplotlib inline\n",
    "\n",
    "import matplotlib.pyplot as plt"
   ]
  },
  {
   "cell_type": "code",
   "execution_count": 16,
   "metadata": {},
   "outputs": [
    {
     "data": {
      "image/png": "[encoded data removed]",
      "text/plain": [
       "<Figure size 432x288 with 1 Axes>"
      ]
     },
     "metadata": {
      "needs_background": "light"
     },
     "output_type": "display_data"
    }
   ],
   "source": [
    "# plot a line chart to show the error rate of different k\n",
    "plt.plot(range(1, len(error_rate)+1), error_rate*100)\n",
    "\n",
    "plt.xlabel('k (the number of nearest neighbors)')\n",
    "plt.ylabel('Error rate (%)')\n",
    "plt.grid(True)\n",
    "\n",
    "plt.savefig('error_rate.png', dpi=90)"
   ]
  },
  {
   "cell_type": "code",
   "execution_count": null,
   "metadata": {},
   "outputs": [],
   "source": []
  }
 ],
 "metadata": {
  "kernelspec": {
   "display_name": "Python 3",
   "language": "python",
   "name": "python3"
  },
  "language_info": {
   "codemirror_mode": {
    "name": "ipython",
    "version": 3
   },
   "file_extension": ".py",
   "mimetype": "text/x-python",
   "name": "python",
   "nbconvert_exporter": "python",
   "pygments_lexer": "ipython3",
   "version": "3.6.7"
  }
 },
 "nbformat": 4,
 "nbformat_minor": 2
}
