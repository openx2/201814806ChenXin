{
 "cells": [
  {
   "cell_type": "code",
   "execution_count": 1,
   "metadata": {},
   "outputs": [],
   "source": [
    "import os\n",
    "import random\n",
    "\n",
    "import numpy as np\n",
    "from nltk.corpus import stopwords\n",
    "from nltk.tokenize import RegexpTokenizer\n",
    "from nltk.stem.snowball import SnowballStemmer\n",
    "\n",
    "from VectorSpaceModel import *\n",
    "from KNNClassifier import *"
   ]
  },
  {
   "cell_type": "code",
   "execution_count": 2,
   "metadata": {},
   "outputs": [],
   "source": [
    "# define constants\n",
    "PATH = \"./20news-18828/\""
   ]
  },
  {
   "cell_type": "code",
   "execution_count": 3,
   "metadata": {
    "scrolled": false
   },
   "outputs": [],
   "source": [
    "# generate file path of training set and test set\n",
    "subdirs = os.listdir(PATH)\n",
    "training_set_fns = []\n",
    "test_set_fns = []\n",
    "splitting_pos = 500\n",
    "for dir_ in subdirs:\n",
    "    files = os.listdir(PATH+dir_)\n",
    "    training_set_fns.extend(os.path.join(dir_, fn) for fn in files[:splitting_pos])\n",
    "    test_set_fns.extend(os.path.join(dir_, fn) for fn in files[splitting_pos:])"
   ]
  },
  {
   "cell_type": "code",
   "execution_count": 4,
   "metadata": {},
   "outputs": [],
   "source": [
    "# read documents of training set\n",
    "training_docs = []\n",
    "for fn in training_set_fns:\n",
    "    with open(PATH+fn, encoding='latin1') as f:\n",
    "        training_docs.append(f.read())"
   ]
  },
  {
   "cell_type": "code",
   "execution_count": 5,
   "metadata": {},
   "outputs": [],
   "source": [
    "# preprocess training docs\n",
    "stop_words = set(stopwords.words('english'))\n",
    "def filter_stop_words(doc):\n",
    "    return filter(lambda w: w not in stop_words, doc)\n",
    "\n",
    "tokenized_docs = []\n",
    "tokenizer = RegexpTokenizer(r'\\w+')\n",
    "stemmer = SnowballStemmer(\"english\", ignore_stopwords=True)\n",
    "for doc in training_docs:\n",
    "    word_tokens = tokenizer.tokenize(doc) # Tokenization\n",
    "    word_stems = [stemmer.stem(w.lower()) for w in word_tokens] # Stemming/normalization\n",
    "    word_without_stopwords = filter_stop_words(word_stems) # Stopword/controlled vocabulary filtering\n",
    "    tokenized_docs.append(word_without_stopwords)"
   ]
  },
  {
   "cell_type": "code",
   "execution_count": 6,
   "metadata": {
    "scrolled": true
   },
   "outputs": [],
   "source": [
    "# get the VSM representation of each training document\n",
    "vsms = []\n",
    "for doc in tokenized_docs:\n",
    "    vsm = VectorSpaceModel(doc)\n",
    "    VectorSpaceModel.accumulateDocumentFrequency(vsm.getTerms())\n",
    "    vsms.append(vsm)\n",
    "\n",
    "VectorSpaceModel.calIDF()\n",
    "for vsm in vsms:\n",
    "    vsm.calWeight(TF_Scale.MAXIMUM)\n",
    "    vsm.normalize()"
   ]
  },
  {
   "cell_type": "code",
   "execution_count": 7,
   "metadata": {},
   "outputs": [],
   "source": [
    "# select some test data\n",
    "N = len(test_set_fns)\n",
    "sample_num = 100\n",
    "test_indices = random.sample(range(N), k=sample_num)"
   ]
  },
  {
   "cell_type": "code",
   "execution_count": 8,
   "metadata": {},
   "outputs": [],
   "source": [
    "# preprocess selected test docs\n",
    "test_docs = []\n",
    "for i in test_indices:\n",
    "    with open(PATH+test_set_fns[i], encoding='latin1') as f:\n",
    "        test_docs.append(f.read())\n",
    "\n",
    "test_tokenized_docs = []\n",
    "for doc in test_docs:\n",
    "    word_tokens = tokenizer.tokenize(doc) # Tokenization\n",
    "    word_stems = [stemmer.stem(w.lower()) for w in word_tokens] # Stemming/normalization\n",
    "    word_without_stopwords = filter_stop_words(word_stems) # Stopword/controlled vocabulary filtering\n",
    "    test_tokenized_docs.append(word_without_stopwords)"
   ]
  },
  {
   "cell_type": "code",
   "execution_count": 9,
   "metadata": {
    "scrolled": true
   },
   "outputs": [],
   "source": [
    "# get the VSM representation of sampled test documents\n",
    "test_vsms = []\n",
    "for doc in test_tokenized_docs:\n",
    "    vsm = VectorSpaceModel(doc)\n",
    "    test_vsms.append(vsm)\n",
    "\n",
    "for vsm in test_vsms:\n",
    "    vsm.calWeight(TF_Scale.MAXIMUM)\n",
    "    vsm.normalize()"
   ]
  },
  {
   "cell_type": "code",
   "execution_count": 10,
   "metadata": {},
   "outputs": [],
   "source": [
    "# create a KNN classifier\n",
    "labels = [os.path.split(fn)[0] for fn in training_set_fns]\n",
    "classifier = KNNClassifier(vsms, labels)"
   ]
  },
  {
   "cell_type": "code",
   "execution_count": 11,
   "metadata": {},
   "outputs": [],
   "source": [
    "# training the classifier\n",
    "classifier.train()"
   ]
  },
  {
   "cell_type": "code",
   "execution_count": 12,
   "metadata": {},
   "outputs": [],
   "source": [
    "# classify the sampled testing data for different k\n",
    "result_for_k = []\n",
    "for k in range(100):\n",
    "    result_for_k.append([])\n",
    "    for vsm in test_vsms:\n",
    "        result_for_k[k].append(classifier.classify(vsm, k+1))"
   ]
  },
  {
   "cell_type": "code",
   "execution_count": 13,
   "metadata": {},
   "outputs": [],
   "source": [
    "# compute the error rate of sampled testing data\n",
    "error_rate = []\n",
    "for r in result_for_k:\n",
    "    sum_ = 0\n",
    "    for i, label in enumerate(r):\n",
    "        if label != os.path.dirname(test_set_fns[test_indices[i]]):\n",
    "            sum_ += 1\n",
    "    error_rate.append(sum_/sample_num)\n",
    "\n",
    "error_rate = np.array(error_rate)"
   ]
  },
  {
   "cell_type": "code",
   "execution_count": 14,
   "metadata": {},
   "outputs": [
    {
     "data": {
      "text/plain": [
       "26"
      ]
     },
     "execution_count": 14,
     "metadata": {},
     "output_type": "execute_result"
    }
   ],
   "source": [
    "# find the best k value\n",
    "np.argmin(error_rate)"
   ]
  },
  {
   "cell_type": "code",
   "execution_count": 15,
   "metadata": {},
   "outputs": [],
   "source": [
    "%matplotlib inline\n",
    "\n",
    "import matplotlib.pyplot as plt"
   ]
  },
  {
   "cell_type": "code",
   "execution_count": 16,
   "metadata": {},
   "outputs": [
    {
     "data": {
      "image/png": "[encoded data removed]",
      "text/plain": [
       "<Figure size 432x288 with 1 Axes>"
      ]
     },
     "metadata": {
      "needs_background": "light"
     },
     "output_type": "display_data"
    }
   ],
   "source": [
    "# plot a line chart to show the error rate of different k\n",
    "plt.plot(range(1, len(error_rate)+1), error_rate*100)\n",
    "\n",
    "plt.xlabel('k (the number of nearest neighbors)')\n",
    "plt.ylabel('Error rate (%)')\n",
    "plt.grid(True)\n",
    "\n",
    "plt.savefig('error_rate.png', dpi=90)"
   ]
  },
  {
   "cell_type": "code",
   "execution_count": 17,
   "metadata": {},
   "outputs": [
    {
     "data": {
      "text/plain": [
       "['alt.atheism\\\\53588',\n",
       " 'comp.windows.x\\\\68274',\n",
       " 'rec.motorcycles\\\\104921',\n",
       " 'sci.med\\\\59470',\n",
       " 'misc.forsale\\\\76350',\n",
       " 'comp.os.ms-windows.misc\\\\9831',\n",
       " 'talk.politics.guns\\\\54836',\n",
       " 'sci.med\\\\59523',\n",
       " 'sci.electronics\\\\53892',\n",
       " 'sci.electronics\\\\54019',\n",
       " 'comp.graphics\\\\39637',\n",
       " 'comp.sys.ibm.pc.hardware\\\\61007',\n",
       " 'talk.politics.guns\\\\54754',\n",
       " 'rec.motorcycles\\\\105124',\n",
       " 'rec.motorcycles\\\\105239',\n",
       " 'soc.religion.christian\\\\21380',\n",
       " 'talk.politics.misc\\\\179062',\n",
       " 'talk.politics.guns\\\\54880',\n",
       " 'rec.sport.baseball\\\\104688',\n",
       " 'sci.med\\\\59360',\n",
       " 'rec.motorcycles\\\\105117',\n",
       " 'comp.sys.ibm.pc.hardware\\\\61139',\n",
       " 'misc.forsale\\\\76359',\n",
       " 'sci.electronics\\\\54034',\n",
       " 'rec.motorcycles\\\\104769',\n",
       " 'comp.graphics\\\\38680',\n",
       " 'talk.politics.misc\\\\178753',\n",
       " 'rec.sport.baseball\\\\104962',\n",
       " 'comp.windows.x\\\\67344',\n",
       " 'sci.med\\\\59311',\n",
       " 'talk.politics.misc\\\\178969',\n",
       " 'comp.os.ms-windows.misc\\\\9620',\n",
       " 'rec.sport.baseball\\\\104853',\n",
       " 'sci.med\\\\59494',\n",
       " 'sci.space\\\\61367',\n",
       " 'comp.graphics\\\\38789',\n",
       " 'talk.politics.mideast\\\\77331',\n",
       " 'alt.atheism\\\\53575',\n",
       " 'sci.crypt\\\\15720',\n",
       " 'rec.sport.hockey\\\\54748',\n",
       " 'alt.atheism\\\\53811',\n",
       " 'comp.sys.ibm.pc.hardware\\\\60993',\n",
       " 'rec.sport.hockey\\\\54727',\n",
       " 'talk.politics.mideast\\\\76540',\n",
       " 'alt.atheism\\\\53760',\n",
       " 'rec.motorcycles\\\\105096',\n",
       " 'sci.space\\\\61473',\n",
       " 'comp.windows.x\\\\67376',\n",
       " 'talk.politics.mideast\\\\76451',\n",
       " 'talk.politics.misc\\\\178838',\n",
       " 'misc.forsale\\\\76661',\n",
       " 'sci.space\\\\61241',\n",
       " 'rec.sport.hockey\\\\54532',\n",
       " 'soc.religion.christian\\\\21528',\n",
       " 'rec.motorcycles\\\\104722',\n",
       " 'talk.politics.mideast\\\\76463',\n",
       " 'soc.religion.christian\\\\21458',\n",
       " 'rec.sport.baseball\\\\104881',\n",
       " 'rec.motorcycles\\\\104879',\n",
       " 'comp.sys.ibm.pc.hardware\\\\60689',\n",
       " 'sci.electronics\\\\54093',\n",
       " 'comp.sys.mac.hardware\\\\51896',\n",
       " 'comp.os.ms-windows.misc\\\\9773',\n",
       " 'sci.crypt\\\\15805',\n",
       " 'comp.os.ms-windows.misc\\\\9725',\n",
       " 'alt.atheism\\\\54172',\n",
       " 'comp.graphics\\\\39003',\n",
       " 'talk.politics.guns\\\\55234',\n",
       " 'comp.sys.ibm.pc.hardware\\\\60964',\n",
       " 'misc.forsale\\\\76662',\n",
       " 'rec.autos\\\\103441',\n",
       " 'rec.autos\\\\103676',\n",
       " 'rec.autos\\\\103181',\n",
       " 'talk.politics.misc\\\\178906',\n",
       " 'rec.motorcycles\\\\105054',\n",
       " 'comp.os.ms-windows.misc\\\\9980',\n",
       " 'sci.space\\\\61546',\n",
       " 'comp.sys.mac.hardware\\\\51909',\n",
       " 'sci.crypt\\\\15661',\n",
       " 'sci.crypt\\\\16105',\n",
       " 'sci.med\\\\59233',\n",
       " 'comp.os.ms-windows.misc\\\\9999',\n",
       " 'sci.crypt\\\\15732',\n",
       " 'comp.windows.x\\\\67485',\n",
       " 'rec.autos\\\\103498',\n",
       " 'rec.autos\\\\103424',\n",
       " 'sci.med\\\\59282',\n",
       " 'comp.graphics\\\\39649',\n",
       " 'sci.space\\\\61450',\n",
       " 'comp.windows.x\\\\67552',\n",
       " 'comp.os.ms-windows.misc\\\\9538',\n",
       " 'sci.med\\\\59633',\n",
       " 'comp.graphics\\\\38837',\n",
       " 'comp.sys.ibm.pc.hardware\\\\60891',\n",
       " 'talk.politics.mideast\\\\77397',\n",
       " 'comp.graphics\\\\39667',\n",
       " 'sci.crypt\\\\16031',\n",
       " 'rec.motorcycles\\\\105220',\n",
       " 'comp.graphics\\\\39011',\n",
       " 'rec.motorcycles\\\\104675']"
      ]
     },
     "execution_count": 17,
     "metadata": {},
     "output_type": "execute_result"
    }
   ],
   "source": [
    "[test_set_fns[test_indices[i]] for i in range(sample_num)]"
   ]
  },
  {
   "cell_type": "code",
   "execution_count": null,
   "metadata": {},
   "outputs": [],
   "source": []
  }
 ],
 "metadata": {
  "kernelspec": {
   "display_name": "Python 3",
   "language": "python",
   "name": "python3"
  },
  "language_info": {
   "codemirror_mode": {
    "name": "ipython",
    "version": 3
   },
   "file_extension": ".py",
   "mimetype": "text/x-python",
   "name": "python",
   "nbconvert_exporter": "python",
   "pygments_lexer": "ipython3",
   "version": "3.6.6"
  }
 },
 "nbformat": 4,
 "nbformat_minor": 2
}
