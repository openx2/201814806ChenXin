{
 "cells": [
  {
   "cell_type": "code",
   "execution_count": 1,
   "metadata": {},
   "outputs": [],
   "source": [
    "import os\n",
    "import random\n",
    "\n",
    "from nltk.corpus import stopwords\n",
    "from nltk.tokenize import RegexpTokenizer\n",
    "from nltk.stem.snowball import SnowballStemmer\n",
    "\n",
    "from VectorSpaceModel import *\n",
    "from KNNClassifier import *"
   ]
  },
  {
   "cell_type": "code",
   "execution_count": 2,
   "metadata": {},
   "outputs": [],
   "source": [
    "# define constants\n",
    "PATH = \"./20news-18828/\""
   ]
  },
  {
   "cell_type": "code",
   "execution_count": 3,
   "metadata": {
    "scrolled": false
   },
   "outputs": [],
   "source": [
    "# generate file path of training set and test set\n",
    "subdirs = os.listdir(PATH)\n",
    "training_set_fns = []\n",
    "test_set_fns = []\n",
    "splitting_pos = 100\n",
    "for dir_ in subdirs:\n",
    "    files = os.listdir(PATH+dir_)\n",
    "    training_set_fns.extend(os.path.join(dir_, fn) for fn in files[:splitting_pos])\n",
    "    test_set_fns.extend(os.path.join(dir_, fn) for fn in files[splitting_pos:])"
   ]
  },
  {
   "cell_type": "code",
   "execution_count": 4,
   "metadata": {},
   "outputs": [],
   "source": [
    "# read documents of training set\n",
    "training_docs = []\n",
    "for fn in training_set_fns:\n",
    "    with open(PATH+fn, encoding='latin1') as f:\n",
    "        training_docs.append(f.read())"
   ]
  },
  {
   "cell_type": "code",
   "execution_count": 5,
   "metadata": {},
   "outputs": [],
   "source": [
    "# preprocess training docs\n",
    "stop_words = set(stopwords.words('english'))\n",
    "def filter_stop_words(doc):\n",
    "    return filter(lambda w: w not in stop_words, doc)\n",
    "\n",
    "tokenized_docs = []\n",
    "tokenizer = RegexpTokenizer(r'\\w+')\n",
    "stemmer = SnowballStemmer(\"english\", ignore_stopwords=True)\n",
    "for doc in training_docs:\n",
    "    word_tokens = tokenizer.tokenize(doc) # Tokenization\n",
    "    word_stems = [stemmer.stem(w.lower()) for w in word_tokens] # Stemming/normalization\n",
    "    word_without_stopwords = filter_stop_words(word_stems) # Stopword/controlled vocabulary filtering\n",
    "    tokenized_docs.append(word_without_stopwords)"
   ]
  },
  {
   "cell_type": "code",
   "execution_count": 6,
   "metadata": {
    "scrolled": true
   },
   "outputs": [],
   "source": [
    "# get the VSM representation of each document\n",
    "vsms = []\n",
    "for doc in tokenized_docs:\n",
    "    vsm = VectorSpaceModel(doc)\n",
    "    VectorSpaceModel.accumulateDocumentFrequency(vsm.getTerms())\n",
    "    vsms.append(vsm)\n",
    "\n",
    "VectorSpaceModel.calIDF()\n",
    "for vsm in vsms:\n",
    "    vsm.calWeight(TF_Scale.MAXIMUM)\n",
    "    vsm.normalize()"
   ]
  },
  {
   "cell_type": "code",
   "execution_count": 7,
   "metadata": {},
   "outputs": [],
   "source": [
    "# select some test data\n",
    "N = len(test_set_fns)\n",
    "sample_num = 100\n",
    "test_indices = random.sample(range(N), k=sample_num)"
   ]
  },
  {
   "cell_type": "code",
   "execution_count": 8,
   "metadata": {},
   "outputs": [],
   "source": [
    "# preprocess selected test docs\n",
    "test_docs = []\n",
    "for i in test_indices:\n",
    "    with open(PATH+test_set_fns[i], encoding='latin1') as f:\n",
    "        test_docs.append(f.read())\n",
    "\n",
    "test_tokenized_docs = []\n",
    "for doc in test_docs:\n",
    "    word_tokens = tokenizer.tokenize(doc) # Tokenization\n",
    "    word_stems = [stemmer.stem(w.lower()) for w in word_tokens] # Stemming/normalization\n",
    "    word_without_stopwords = filter_stop_words(word_stems) # Stopword/controlled vocabulary filtering\n",
    "    test_tokenized_docs.append(word_without_stopwords)"
   ]
  },
  {
   "cell_type": "code",
   "execution_count": 9,
   "metadata": {
    "scrolled": true
   },
   "outputs": [],
   "source": [
    "# get the VSM representation of documents in sampled test dataset\n",
    "test_vsms = []\n",
    "for doc in test_tokenized_docs:\n",
    "    vsm = VectorSpaceModel(doc)\n",
    "    test_vsms.append(vsm)\n",
    "\n",
    "for vsm in test_vsms:\n",
    "    vsm.calWeight(TF_Scale.MAXIMUM)\n",
    "    vsm.normalize()"
   ]
  },
  {
   "cell_type": "code",
   "execution_count": 10,
   "metadata": {},
   "outputs": [],
   "source": [
    "# create a KNN classifier\n",
    "k = 5\n",
    "labels = [os.path.split(fn)[0] for fn in training_set_fns]\n",
    "classifier = KNNClassifier(vsms, labels, k)"
   ]
  },
  {
   "cell_type": "code",
   "execution_count": 11,
   "metadata": {},
   "outputs": [],
   "source": [
    "# training the classifier\n",
    "classifier.train()"
   ]
  },
  {
   "cell_type": "code",
   "execution_count": 12,
   "metadata": {},
   "outputs": [
    {
     "name": "stdout",
     "output_type": "stream",
     "text": [
      "('sci.med', 1)\n",
      "talk.politics.guns\\54345\n"
     ]
    }
   ],
   "source": [
    "# classify the sampled test data\n",
    "index = 1\n",
    "x = test_vsms[index]\n",
    "print(classifier.classify(x))\n",
    "print(test_set_fns[test_indices[index]])"
   ]
  },
  {
   "cell_type": "code",
   "execution_count": null,
   "metadata": {},
   "outputs": [],
   "source": []
  }
 ],
 "metadata": {
  "kernelspec": {
   "display_name": "Python 3",
   "language": "python",
   "name": "python3"
  },
  "language_info": {
   "codemirror_mode": {
    "name": "ipython",
    "version": 3
   },
   "file_extension": ".py",
   "mimetype": "text/x-python",
   "name": "python",
   "nbconvert_exporter": "python",
   "pygments_lexer": "ipython3",
   "version": "3.6.6"
  }
 },
 "nbformat": 4,
 "nbformat_minor": 2
}
