{
 "cells": [
  {
   "cell_type": "code",
   "execution_count": 1,
   "metadata": {},
   "outputs": [],
   "source": [
    "import os\n",
    "import random\n",
    "\n",
    "import numpy as np\n",
    "from nltk.corpus import stopwords\n",
    "from nltk.tokenize import RegexpTokenizer\n",
    "from nltk.stem.snowball import SnowballStemmer\n",
    "\n",
    "from VectorSpaceModel import *\n",
    "from KNNClassifier import *"
   ]
  },
  {
   "cell_type": "code",
   "execution_count": 2,
   "metadata": {},
   "outputs": [],
   "source": [
    "# define constants\n",
    "PATH = \"./20news-18828/\""
   ]
  },
  {
   "cell_type": "code",
   "execution_count": 3,
   "metadata": {
    "scrolled": false
   },
   "outputs": [],
   "source": [
    "# generate file path of training set and testing set\n",
    "subdirs = os.listdir(PATH)\n",
    "training_set_fns = []\n",
    "test_set_fns = []\n",
    "splitting_pos = 500\n",
    "for dir_ in subdirs:\n",
    "    files = os.listdir(PATH+dir_)\n",
    "    training_set_fns.extend(os.path.join(dir_, fn) for fn in files[:splitting_pos])\n",
    "    test_set_fns.extend(os.path.join(dir_, fn) for fn in files[splitting_pos:])"
   ]
  },
  {
   "cell_type": "code",
   "execution_count": 4,
   "metadata": {},
   "outputs": [],
   "source": [
    "# read documents of training set\n",
    "training_docs = []\n",
    "for fn in training_set_fns:\n",
    "    with open(PATH+fn, encoding='latin1') as f:\n",
    "        training_docs.append(f.read())"
   ]
  },
  {
   "cell_type": "code",
   "execution_count": 5,
   "metadata": {},
   "outputs": [],
   "source": [
    "# preprocess training docs\n",
    "stop_words = set(stopwords.words('english'))\n",
    "def filter_stop_words(doc):\n",
    "    return filter(lambda w: w not in stop_words, doc)\n",
    "\n",
    "tokenized_docs = []\n",
    "tokenizer = RegexpTokenizer(r'\\w+')\n",
    "stemmer = SnowballStemmer(\"english\", ignore_stopwords=True)\n",
    "for doc in training_docs:\n",
    "    word_tokens = tokenizer.tokenize(doc) # Tokenization\n",
    "    word_stems = [stemmer.stem(w.lower()) for w in word_tokens] # Stemming/normalization\n",
    "    word_without_stopwords = filter_stop_words(word_stems) # Stopword/controlled vocabulary filtering\n",
    "    tokenized_docs.append(word_without_stopwords)"
   ]
  },
  {
   "cell_type": "code",
   "execution_count": 6,
   "metadata": {
    "scrolled": true
   },
   "outputs": [],
   "source": [
    "# get the VSM representation of each training document\n",
    "vsms = []\n",
    "for doc in tokenized_docs:\n",
    "    vsm = VectorSpaceModel(doc)\n",
    "    VectorSpaceModel.accumulateDocumentFrequency(vsm.getTerms())\n",
    "    vsms.append(vsm)\n",
    "\n",
    "VectorSpaceModel.calIDF()\n",
    "for vsm in vsms:\n",
    "    vsm.calWeight(TF_Scale.MAXIMUM)\n",
    "    vsm.normalize()"
   ]
  },
  {
   "cell_type": "code",
   "execution_count": 7,
   "metadata": {},
   "outputs": [
    {
     "data": {
      "text/plain": [
       "10000"
      ]
     },
     "execution_count": 7,
     "metadata": {},
     "output_type": "execute_result"
    }
   ],
   "source": [
    "len(vsms)"
   ]
  },
  {
   "cell_type": "code",
   "execution_count": 8,
   "metadata": {},
   "outputs": [],
   "source": [
    "# select some testing data\n",
    "N = len(test_set_fns)\n",
    "sample_num = 200\n",
    "test_indices = random.sample(range(N), k=sample_num)"
   ]
  },
  {
   "cell_type": "code",
   "execution_count": 9,
   "metadata": {},
   "outputs": [],
   "source": [
    "# preprocess selected testing docs\n",
    "test_docs = []\n",
    "for i in test_indices:\n",
    "    with open(PATH+test_set_fns[i], encoding='latin1') as f:\n",
    "        test_docs.append(f.read())\n",
    "\n",
    "test_tokenized_docs = []\n",
    "for doc in test_docs:\n",
    "    word_tokens = tokenizer.tokenize(doc) # Tokenization\n",
    "    word_stems = [stemmer.stem(w.lower()) for w in word_tokens] # Stemming/normalization\n",
    "    word_without_stopwords = filter_stop_words(word_stems) # Stopword/controlled vocabulary filtering\n",
    "    test_tokenized_docs.append(word_without_stopwords)"
   ]
  },
  {
   "cell_type": "code",
   "execution_count": 10,
   "metadata": {
    "scrolled": true
   },
   "outputs": [],
   "source": [
    "# get the VSM representation of sampled testing documents\n",
    "test_vsms = []\n",
    "for doc in test_tokenized_docs:\n",
    "    vsm = VectorSpaceModel(doc)\n",
    "    test_vsms.append(vsm)\n",
    "\n",
    "for vsm in test_vsms:\n",
    "    vsm.calWeight(TF_Scale.MAXIMUM)\n",
    "    vsm.normalize()"
   ]
  },
  {
   "cell_type": "code",
   "execution_count": 11,
   "metadata": {},
   "outputs": [],
   "source": [
    "# create a KNN classifier\n",
    "labels = [os.path.dirname(fn) for fn in training_set_fns]\n",
    "classifier = KNNClassifier(vsms, labels)"
   ]
  },
  {
   "cell_type": "code",
   "execution_count": 12,
   "metadata": {},
   "outputs": [],
   "source": [
    "# training the classifier\n",
    "classifier.train()"
   ]
  },
  {
   "cell_type": "code",
   "execution_count": 13,
   "metadata": {},
   "outputs": [],
   "source": [
    "# classify the sampled testing data for different k\n",
    "result_for_k = []\n",
    "for k in range(50):\n",
    "    result_for_k.append([])\n",
    "    for vsm in test_vsms:\n",
    "        result_for_k[k].append(classifier.classify(vsm, k+1))"
   ]
  },
  {
   "cell_type": "code",
   "execution_count": 14,
   "metadata": {},
   "outputs": [],
   "source": [
    "# compute the error rate of sampled testing data\n",
    "error_rate = []\n",
    "for r in result_for_k:\n",
    "    sum_ = 0\n",
    "    for i, label in enumerate(r):\n",
    "        if label != os.path.dirname(test_set_fns[test_indices[i]]):\n",
    "            sum_ += 1\n",
    "    error_rate.append(sum_/sample_num)\n",
    "\n",
    "error_rate = np.array(error_rate)"
   ]
  },
  {
   "cell_type": "code",
   "execution_count": 15,
   "metadata": {},
   "outputs": [],
   "source": [
    "%matplotlib inline\n",
    "\n",
    "import matplotlib.pyplot as plt"
   ]
  },
  {
   "cell_type": "code",
   "execution_count": 16,
   "metadata": {},
   "outputs": [
    {
     "data": {
      "image/png": "[encoded data removed]",
      "text/plain": [
       "<Figure size 432x288 with 1 Axes>"
      ]
     },
     "metadata": {
      "needs_background": "light"
     },
     "output_type": "display_data"
    }
   ],
   "source": [
    "# plot a line chart to show the error rate of different k\n",
    "plt.plot(range(1, len(error_rate)+1), error_rate*100)\n",
    "\n",
    "plt.xlabel('k (the number of nearest neighbors)')\n",
    "plt.ylabel('Error rate (%)')\n",
    "plt.grid(True)\n",
    "\n",
    "plt.savefig('error_rate.png', dpi=90)"
   ]
  },
  {
   "cell_type": "code",
   "execution_count": 17,
   "metadata": {},
   "outputs": [
    {
     "data": {
      "text/plain": [
       "['rec.autos\\\\103780',\n",
       " 'talk.religion.misc\\\\84560',\n",
       " 'misc.forsale\\\\76818',\n",
       " 'comp.sys.ibm.pc.hardware\\\\60983',\n",
       " 'comp.os.ms-windows.misc\\\\9945',\n",
       " 'sci.electronics\\\\54503',\n",
       " 'talk.politics.misc\\\\178940',\n",
       " 'comp.os.ms-windows.misc\\\\9827',\n",
       " 'sci.space\\\\61494',\n",
       " 'comp.os.ms-windows.misc\\\\9576',\n",
       " 'rec.sport.baseball\\\\104768',\n",
       " 'rec.motorcycles\\\\104669',\n",
       " 'sci.med\\\\59371',\n",
       " 'talk.politics.misc\\\\178851',\n",
       " 'sci.electronics\\\\54304',\n",
       " 'sci.crypt\\\\16079',\n",
       " 'comp.os.ms-windows.misc\\\\9807',\n",
       " 'talk.politics.mideast\\\\76413',\n",
       " 'sci.space\\\\61156',\n",
       " 'misc.forsale\\\\76840',\n",
       " 'comp.sys.mac.hardware\\\\51977',\n",
       " 'comp.os.ms-windows.misc\\\\9672',\n",
       " 'talk.religion.misc\\\\84351',\n",
       " 'rec.sport.baseball\\\\104891',\n",
       " 'comp.sys.mac.hardware\\\\52297',\n",
       " 'comp.graphics\\\\38717',\n",
       " 'comp.graphics\\\\38746',\n",
       " 'comp.graphics\\\\39615',\n",
       " 'sci.space\\\\61254',\n",
       " 'misc.forsale\\\\76391',\n",
       " 'comp.windows.x\\\\67431',\n",
       " 'comp.sys.mac.hardware\\\\52258',\n",
       " 'comp.graphics\\\\39074',\n",
       " 'comp.sys.ibm.pc.hardware\\\\60896',\n",
       " 'rec.autos\\\\103180',\n",
       " 'rec.sport.baseball\\\\104999',\n",
       " 'rec.motorcycles\\\\105130',\n",
       " 'rec.autos\\\\103683',\n",
       " 'comp.graphics\\\\38868',\n",
       " 'misc.forsale\\\\76683',\n",
       " 'rec.motorcycles\\\\104880',\n",
       " 'rec.motorcycles\\\\105098',\n",
       " 'talk.politics.guns\\\\55115',\n",
       " 'sci.space\\\\62404',\n",
       " 'talk.politics.mideast\\\\77217',\n",
       " 'comp.graphics\\\\38692',\n",
       " 'sci.crypt\\\\15846',\n",
       " 'talk.politics.guns\\\\55102',\n",
       " 'misc.forsale\\\\76325',\n",
       " 'comp.os.ms-windows.misc\\\\9902',\n",
       " 'rec.sport.baseball\\\\104851',\n",
       " 'sci.space\\\\61391',\n",
       " 'sci.med\\\\59348',\n",
       " 'misc.forsale\\\\76447',\n",
       " 'comp.graphics\\\\39657',\n",
       " 'comp.graphics\\\\39672',\n",
       " 'sci.electronics\\\\54271',\n",
       " 'rec.autos\\\\103689',\n",
       " 'comp.sys.mac.hardware\\\\52405',\n",
       " 'talk.politics.misc\\\\178970',\n",
       " 'talk.politics.guns\\\\55069',\n",
       " 'sci.electronics\\\\54018',\n",
       " 'soc.religion.christian\\\\21636',\n",
       " 'sci.electronics\\\\54314',\n",
       " 'sci.space\\\\61331',\n",
       " 'comp.graphics\\\\38756',\n",
       " 'rec.autos\\\\103811',\n",
       " 'rec.motorcycles\\\\104980',\n",
       " 'sci.space\\\\61413',\n",
       " 'comp.sys.ibm.pc.hardware\\\\60872',\n",
       " 'alt.atheism\\\\53656',\n",
       " 'sci.crypt\\\\16352',\n",
       " 'misc.forsale\\\\76494',\n",
       " 'talk.politics.misc\\\\178998',\n",
       " 'rec.sport.hockey\\\\54134',\n",
       " 'comp.sys.mac.hardware\\\\52174',\n",
       " 'comp.windows.x\\\\68205',\n",
       " 'comp.sys.mac.hardware\\\\51951',\n",
       " 'rec.sport.hockey\\\\54749',\n",
       " 'talk.politics.mideast\\\\77212',\n",
       " 'comp.graphics\\\\39072',\n",
       " 'talk.politics.guns\\\\54701',\n",
       " 'sci.space\\\\61519',\n",
       " 'comp.windows.x\\\\68077',\n",
       " 'talk.politics.misc\\\\179067',\n",
       " 'rec.sport.baseball\\\\105106',\n",
       " 'talk.politics.misc\\\\178897',\n",
       " 'rec.sport.baseball\\\\105104',\n",
       " 'comp.windows.x\\\\68175',\n",
       " 'rec.motorcycles\\\\105022',\n",
       " 'comp.windows.x\\\\67448',\n",
       " 'rec.sport.hockey\\\\54232',\n",
       " 'sci.space\\\\61475',\n",
       " 'rec.sport.baseball\\\\104773',\n",
       " 'soc.religion.christian\\\\21741',\n",
       " 'sci.electronics\\\\54167',\n",
       " 'talk.politics.mideast\\\\76386',\n",
       " 'misc.forsale\\\\76567',\n",
       " 'talk.politics.guns\\\\54888',\n",
       " 'rec.motorcycles\\\\104763',\n",
       " 'comp.graphics\\\\39078',\n",
       " 'rec.motorcycles\\\\104912',\n",
       " 'soc.religion.christian\\\\21565',\n",
       " 'comp.graphics\\\\38808',\n",
       " 'rec.motorcycles\\\\105101',\n",
       " 'comp.windows.x\\\\68088',\n",
       " 'rec.autos\\\\103431',\n",
       " 'soc.religion.christian\\\\21695',\n",
       " 'rec.autos\\\\103721',\n",
       " 'sci.med\\\\59215',\n",
       " 'rec.autos\\\\103322',\n",
       " 'talk.politics.misc\\\\179075',\n",
       " 'sci.electronics\\\\54298',\n",
       " 'sci.med\\\\59463',\n",
       " 'rec.sport.hockey\\\\54897',\n",
       " 'talk.politics.mideast\\\\76492',\n",
       " 'rec.sport.baseball\\\\104970',\n",
       " 'comp.os.ms-windows.misc\\\\9702',\n",
       " 'comp.sys.mac.hardware\\\\52212',\n",
       " 'comp.windows.x\\\\67364',\n",
       " 'comp.graphics\\\\39047',\n",
       " 'soc.religion.christian\\\\21488',\n",
       " 'rec.motorcycles\\\\104863',\n",
       " 'comp.graphics\\\\39022',\n",
       " 'comp.windows.x\\\\67558',\n",
       " 'sci.crypt\\\\15981',\n",
       " 'rec.sport.baseball\\\\104670',\n",
       " 'sci.med\\\\59473',\n",
       " 'comp.sys.mac.hardware\\\\51935',\n",
       " 'misc.forsale\\\\76255',\n",
       " 'sci.med\\\\59569',\n",
       " 'talk.religion.misc\\\\84447',\n",
       " 'comp.windows.x\\\\67340',\n",
       " 'rec.motorcycles\\\\104984',\n",
       " 'rec.autos\\\\103531',\n",
       " 'comp.windows.x\\\\67323',\n",
       " 'rec.motorcycles\\\\104770',\n",
       " 'sci.space\\\\62394',\n",
       " 'sci.med\\\\59590',\n",
       " 'comp.os.ms-windows.misc\\\\9692',\n",
       " 'rec.autos\\\\103430',\n",
       " 'alt.atheism\\\\54218',\n",
       " 'comp.os.ms-windows.misc\\\\9836',\n",
       " 'rec.sport.hockey\\\\54080',\n",
       " 'comp.sys.mac.hardware\\\\51983',\n",
       " 'alt.atheism\\\\53811',\n",
       " 'alt.atheism\\\\53547',\n",
       " 'sci.crypt\\\\16032',\n",
       " 'rec.sport.hockey\\\\54535',\n",
       " 'comp.graphics\\\\38946',\n",
       " 'comp.windows.x\\\\67376',\n",
       " 'talk.politics.mideast\\\\77193',\n",
       " 'sci.med\\\\59627',\n",
       " 'sci.space\\\\61549',\n",
       " 'rec.motorcycles\\\\104767',\n",
       " 'sci.electronics\\\\54269',\n",
       " 'sci.med\\\\59591',\n",
       " 'comp.os.ms-windows.misc\\\\9781',\n",
       " 'sci.crypt\\\\16030',\n",
       " 'sci.electronics\\\\54080',\n",
       " 'rec.motorcycles\\\\104875',\n",
       " 'comp.graphics\\\\39046',\n",
       " 'sci.electronics\\\\53947',\n",
       " 'rec.motorcycles\\\\104768',\n",
       " 'rec.sport.baseball\\\\104820',\n",
       " 'comp.sys.mac.hardware\\\\52222',\n",
       " 'comp.windows.x\\\\68078',\n",
       " 'sci.space\\\\62114',\n",
       " 'comp.sys.ibm.pc.hardware\\\\61063',\n",
       " 'soc.religion.christian\\\\21785',\n",
       " 'comp.sys.mac.hardware\\\\52070',\n",
       " 'rec.sport.baseball\\\\104880',\n",
       " 'comp.sys.mac.hardware\\\\51972',\n",
       " 'sci.space\\\\61364',\n",
       " 'comp.os.ms-windows.misc\\\\9548',\n",
       " 'sci.space\\\\61421',\n",
       " 'comp.sys.mac.hardware\\\\51883',\n",
       " 'sci.crypt\\\\15941',\n",
       " 'comp.windows.x\\\\67535',\n",
       " 'talk.politics.mideast\\\\76551',\n",
       " 'alt.atheism\\\\54253',\n",
       " 'comp.windows.x\\\\68002',\n",
       " 'comp.os.ms-windows.misc\\\\9617',\n",
       " 'rec.sport.hockey\\\\54299',\n",
       " 'sci.electronics\\\\54012',\n",
       " 'sci.med\\\\59512',\n",
       " 'misc.forsale\\\\76860',\n",
       " 'sci.space\\\\62395',\n",
       " 'comp.os.ms-windows.misc\\\\9533',\n",
       " 'rec.sport.hockey\\\\54094',\n",
       " 'rec.sport.baseball\\\\105065',\n",
       " 'talk.politics.guns\\\\55259',\n",
       " 'comp.windows.x\\\\68048',\n",
       " 'soc.religion.christian\\\\21626',\n",
       " 'comp.windows.x\\\\67504',\n",
       " 'misc.forsale\\\\77014',\n",
       " 'rec.sport.baseball\\\\104791',\n",
       " 'rec.sport.baseball\\\\104903',\n",
       " 'comp.sys.ibm.pc.hardware\\\\60852',\n",
       " 'comp.os.ms-windows.misc\\\\9639']"
      ]
     },
     "execution_count": 17,
     "metadata": {},
     "output_type": "execute_result"
    }
   ],
   "source": [
    "[test_set_fns[test_indices[i]] for i in range(sample_num)]"
   ]
  },
  {
   "cell_type": "code",
   "execution_count": 19,
   "metadata": {},
   "outputs": [],
   "source": [
    "# read the whole testing set\n",
    "whole_test_docs = []\n",
    "for fn in test_set_fns:\n",
    "    with open(PATH+fn, encoding='latin1') as f:\n",
    "        whole_test_docs.append(f.read())\n",
    "\n",
    "whole_test_tokenized_docs = []\n",
    "for doc in whole_test_docs:\n",
    "    word_tokens = tokenizer.tokenize(doc) # Tokenization\n",
    "    word_stems = [stemmer.stem(w.lower()) for w in word_tokens] # Stemming/normalization\n",
    "    word_without_stopwords = filter_stop_words(word_stems) # Stopword/controlled vocabulary filtering\n",
    "    whole_test_tokenized_docs.append(word_without_stopwords)"
   ]
  },
  {
   "cell_type": "code",
   "execution_count": 20,
   "metadata": {
    "scrolled": true
   },
   "outputs": [],
   "source": [
    "# get the VSM representation of whole testing documents\n",
    "whole_test_vsms = []\n",
    "for doc in whole_test_tokenized_docs:\n",
    "    vsm = VectorSpaceModel(doc)\n",
    "    whole_test_vsms.append(vsm)\n",
    "\n",
    "for vsm in whole_test_vsms:\n",
    "    vsm.calWeight(TF_Scale.MAXIMUM)\n",
    "    vsm.normalize()"
   ]
  },
  {
   "cell_type": "code",
   "execution_count": 21,
   "metadata": {},
   "outputs": [
    {
     "name": "stdout",
     "output_type": "stream",
     "text": [
      "16\n"
     ]
    }
   ],
   "source": [
    "# set k = the best k in sampled testing set\n",
    "k = np.argmin(error_rate)+1\n",
    "print(k)"
   ]
  },
  {
   "cell_type": "code",
   "execution_count": 22,
   "metadata": {},
   "outputs": [],
   "source": [
    "# classify the whole testing data for the best k\n",
    "result_for_whole_test_set = []\n",
    "for vsm in whole_test_vsms:\n",
    "    result_for_whole_test_set.append(classifier.classify(vsm, k))"
   ]
  },
  {
   "cell_type": "code",
   "execution_count": 23,
   "metadata": {},
   "outputs": [
    {
     "name": "stdout",
     "output_type": "stream",
     "text": [
      "The final error rate is: 20.185772541912097%.\n"
     ]
    }
   ],
   "source": [
    "# compute the error rate of whole testing data\n",
    "error_rate = 1\n",
    "for i, label in enumerate(result_for_whole_test_set):\n",
    "    if label != os.path.dirname(test_set_fns[i]):\n",
    "        sum_ += 1\n",
    "\n",
    "error_rate = sum_/len(test_set_fns)\n",
    "print(\"The final error rate is: \" + str(error_rate*100) + \"%.\")"
   ]
  },
  {
   "cell_type": "code",
   "execution_count": null,
   "metadata": {},
   "outputs": [],
   "source": []
  }
 ],
 "metadata": {
  "kernelspec": {
   "display_name": "Python 3",
   "language": "python",
   "name": "python3"
  },
  "language_info": {
   "codemirror_mode": {
    "name": "ipython",
    "version": 3
   },
   "file_extension": ".py",
   "mimetype": "text/x-python",
   "name": "python",
   "nbconvert_exporter": "python",
   "pygments_lexer": "ipython3",
   "version": "3.6.7"
  }
 },
 "nbformat": 4,
 "nbformat_minor": 2
}
