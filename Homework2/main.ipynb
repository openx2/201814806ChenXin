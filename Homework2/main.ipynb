{
 "cells": [
  {
   "cell_type": "code",
   "execution_count": 1,
   "metadata": {},
   "outputs": [],
   "source": [
    "%load_ext autoreload\n",
    "%autoreload 2"
   ]
  },
  {
   "cell_type": "code",
   "execution_count": 2,
   "metadata": {},
   "outputs": [],
   "source": [
    "import os\n",
    "\n",
    "import numpy as np\n",
    "from sklearn.model_selection import train_test_split\n",
    "from nltk.corpus import stopwords\n",
    "from nltk.tokenize import RegexpTokenizer\n",
    "from nltk.stem.snowball import SnowballStemmer\n",
    "\n",
    "from NBC import *"
   ]
  },
  {
   "cell_type": "code",
   "execution_count": 3,
   "metadata": {},
   "outputs": [],
   "source": [
    "# define constants\n",
    "PATH = \"./20news-18828/\""
   ]
  },
  {
   "cell_type": "code",
   "execution_count": 4,
   "metadata": {},
   "outputs": [],
   "source": [
    "# generate file path of training set and testing set\n",
    "subdirs = os.listdir(PATH)\n",
    "filepaths = []\n",
    "for dir_ in subdirs:\n",
    "    files = os.listdir(PATH+dir_)\n",
    "    filepaths.extend(os.path.join(dir_, fn) for fn in files)\n",
    "\n",
    "training_set_fns, test_set_fns = train_test_split(filepaths, test_size=0.2)"
   ]
  },
  {
   "cell_type": "code",
   "execution_count": 5,
   "metadata": {},
   "outputs": [
    {
     "name": "stdout",
     "output_type": "stream",
     "text": [
      "The training set contains 15062 files\n",
      "The testing set contains 3766 files\n"
     ]
    }
   ],
   "source": [
    "print('The training set contains %d files' % len(training_set_fns))\n",
    "print('The testing set contains %d files' % len(test_set_fns))"
   ]
  },
  {
   "cell_type": "code",
   "execution_count": 6,
   "metadata": {},
   "outputs": [],
   "source": [
    "# read documents of training set\n",
    "training_docs = []\n",
    "for fn in training_set_fns:\n",
    "    with open(PATH+fn, encoding='latin1') as f:\n",
    "        training_docs.append(f.read())"
   ]
  },
  {
   "cell_type": "code",
   "execution_count": 7,
   "metadata": {},
   "outputs": [],
   "source": [
    "# preprocess training docs\n",
    "stop_words = set(stopwords.words('english'))\n",
    "def filter_stop_words(doc):\n",
    "    return filter(lambda w: w not in stop_words, doc)\n",
    "\n",
    "tokenized_docs = []\n",
    "tokenizer = RegexpTokenizer(r'\\w+')\n",
    "stemmer = SnowballStemmer(\"english\", ignore_stopwords=True)\n",
    "for doc in training_docs:\n",
    "    word_tokens = tokenizer.tokenize(doc) # Tokenization\n",
    "    word_stems = [stemmer.stem(w.lower()) for w in word_tokens] # Stemming/normalization\n",
    "    word_without_stopwords = filter_stop_words(word_stems) # Stopword/controlled vocabulary filtering\n",
    "    tokenized_docs.append(list(word_without_stopwords))"
   ]
  },
  {
   "cell_type": "code",
   "execution_count": 8,
   "metadata": {},
   "outputs": [],
   "source": [
    "# preprocess the whole testing set\n",
    "N = len(test_set_fns)\n",
    "\n",
    "whole_test_docs = []\n",
    "for fn in test_set_fns:\n",
    "    with open(PATH+fn, encoding='latin1') as f:\n",
    "        whole_test_docs.append(f.read())\n",
    "\n",
    "whole_test_tokenized_docs = []\n",
    "for doc in whole_test_docs:\n",
    "    word_tokens = tokenizer.tokenize(doc) # Tokenization\n",
    "    word_stems = [stemmer.stem(w.lower()) for w in word_tokens] # Stemming/normalization\n",
    "    word_without_stopwords = filter_stop_words(word_stems) # Stopword/controlled vocabulary filtering\n",
    "    whole_test_tokenized_docs.append(list(word_without_stopwords))"
   ]
  },
  {
   "cell_type": "code",
   "execution_count": 9,
   "metadata": {},
   "outputs": [],
   "source": [
    "# create a naive Bayes classifier\n",
    "labels = [os.path.dirname(fn) for fn in training_set_fns]\n",
    "classifier = NaiveBayesClassifier(tokenized_docs, labels)"
   ]
  },
  {
   "cell_type": "code",
   "execution_count": 10,
   "metadata": {},
   "outputs": [],
   "source": [
    "# training the classifier\n",
    "classifier.train()"
   ]
  },
  {
   "cell_type": "code",
   "execution_count": 11,
   "metadata": {},
   "outputs": [],
   "source": [
    "# classify the testing data for different k\n",
    "results = []\n",
    "for doc in whole_test_tokenized_docs:\n",
    "    results.append(classifier.classify(doc))"
   ]
  },
  {
   "cell_type": "code",
   "execution_count": 12,
   "metadata": {},
   "outputs": [
    {
     "name": "stdout",
     "output_type": "stream",
     "text": [
      "The accuracy is: 0.800319\n"
     ]
    }
   ],
   "source": [
    "error_rate = 0\n",
    "sum_ = 0\n",
    "for i, label in enumerate(results):\n",
    "    if label != os.path.dirname(test_set_fns[i]):\n",
    "        sum_ += 1\n",
    "\n",
    "error_rate= sum_/N\n",
    "print('The accuracy is: %f' % (1-error_rate))"
   ]
  },
  {
   "cell_type": "code",
   "execution_count": null,
   "metadata": {},
   "outputs": [],
   "source": []
  }
 ],
 "metadata": {
  "kernelspec": {
   "display_name": "Python 3",
   "language": "python",
   "name": "python3"
  },
  "language_info": {
   "codemirror_mode": {
    "name": "ipython",
    "version": 3
   },
   "file_extension": ".py",
   "mimetype": "text/x-python",
   "name": "python",
   "nbconvert_exporter": "python",
   "pygments_lexer": "ipython3",
   "version": "3.6.7"
  }
 },
 "nbformat": 4,
 "nbformat_minor": 2
}
